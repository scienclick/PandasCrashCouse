{
 "cells": [
  {
   "cell_type": "markdown",
   "metadata": {},
   "source": [
    "# Pandas Crash Course"
   ]
  },
  {
   "cell_type": "markdown",
   "metadata": {},
   "source": [
    "written by Mehdi Paydayesh on 25/04/2019\n",
    "\n",
    "\n",
    "## What is Pandas?\n",
    "The Pandas library is one of the most popular and widely used Python libraries in data science and python programming. It stands for stands for “Python Data Analysis Library” and it has been a game changer in performing data manipulation and analysis. \n",
    "It is built on the top of Numpy package which allows Python to read in datasets from various formats, such as CSV file, TSV file, or a SQL database. It offers data structures in ‘DataFrame’ that allow you to read, store, select and manipulate tabular data in rows of observations and columns of variables.  It also lets you quickly grab statistics such as the mean value of a column. \n",
    "\n",
    "## Why is it important?\n",
    "Pandas offers flexible data structures and provides easy syntax and fast operations. In combination with libraries such as matplotlib for data visualization and NumPy for statistics provides a package that is extensively for scientific computing in Python. \n",
    "\n",
    "## What you see in this document?\n",
    "I have put together a tutorial in a form of Notebook in my GitHub repository that covers the basics of Pandas. It covers Pandas DataFrames, basic data manipulations that includes code samples. This tutorial has been prepared for those who seek for a quick guide to dive into Pandas common functions of Pandas. It gives you essentials of that you need to kickstart your data analysis fun in Python!\n",
    "\n",
    "## Requirements\n",
    "The major libraries used:\n",
    "1. Pandas\n",
    "\n",
    "## How to install \n",
    "The easiest way to get Pandas is to install it through the Anaconda distribution. Alternatively you can install pandas with: \"pip install pandas\" or \"conda instal pandas\"\n",
    "\n",
    "\n",
    "## File structure\n",
    "\n",
    "The notebook file is called **PandasCrashCourse.ipynb** and includes the following sections:\n",
    "\n",
    "**Part 0: importing libararies**\n",
    "\n",
    "**Part 1: grabing a specific column**\n",
    "\n",
    "**Part 2: grabing multiple columns of data**\n",
    "\n",
    "**Part 3: Using conditioning filtering to select certian rows and columns **\n",
    "\n",
    "**Part 4: grabing unique values**\n",
    "\n",
    "**Part 5: grabing all the column names of the data frame**\n",
    "\n",
    "**Part 6: reporting back the information about the data frame**\n",
    "\n",
    "**Part 7: reporting the statitics in the data**\n",
    "\n",
    "**Part 8: reporting the range of index**\n",
    "\n",
    "**Part 9: Creating a panda data frame using some Numpy generated numbers**"
   ]
  },
  {
   "cell_type": "code",
   "execution_count": 1,
   "metadata": {},
   "outputs": [],
   "source": [
    "import pandas as pd"
   ]
  },
  {
   "cell_type": "code",
   "execution_count": 2,
   "metadata": {},
   "outputs": [
    {
     "name": "stdout",
     "output_type": "stream",
     "text": [
      "     Name  Salary  Age\n",
      "0    John   50000   34\n",
      "1   Sally  120000   45\n",
      "2  Alyssa   80000   27\n"
     ]
    }
   ],
   "source": [
    "df=pd.read_csv('salaries.csv')\n",
    "print(df)"
   ]
  },
  {
   "cell_type": "code",
   "execution_count": 3,
   "metadata": {},
   "outputs": [
    {
     "name": "stdout",
     "output_type": "stream",
     "text": [
      "0     50000\n",
      "1    120000\n",
      "2     80000\n",
      "Name: Salary, dtype: int64\n"
     ]
    }
   ],
   "source": [
    "# grabing a specific column\n",
    "a= df[\"Salary\"]\n",
    "print(a)"
   ]
  },
  {
   "cell_type": "code",
   "execution_count": 5,
   "metadata": {},
   "outputs": [
    {
     "name": "stdout",
     "output_type": "stream",
     "text": [
      "     Name  Salary\n",
      "0    John   50000\n",
      "1   Sally  120000\n",
      "2  Alyssa   80000\n"
     ]
    }
   ],
   "source": [
    "# grabing multiple columns of data\n",
    "b=df[['Name','Salary']]\n",
    "print(b)"
   ]
  },
  {
   "cell_type": "code",
   "execution_count": 7,
   "metadata": {},
   "outputs": [
    {
     "name": "stdout",
     "output_type": "stream",
     "text": [
      "50000\n",
      "120000\n",
      "83333.33333333333\n"
     ]
    }
   ],
   "source": [
    "# min, max and mean operations\n",
    "a= df[\"Salary\"].min()\n",
    "print(a)\n",
    "b= df[\"Salary\"].max()\n",
    "print(b)\n",
    "c= df[\"Salary\"].mean()\n",
    "print(c)"
   ]
  },
  {
   "cell_type": "code",
   "execution_count": 11,
   "metadata": {},
   "outputs": [
    {
     "name": "stdout",
     "output_type": "stream",
     "text": [
      "0     True\n",
      "1     True\n",
      "2    False\n",
      "Name: Age, dtype: bool\n",
      "    Name  Salary  Age\n",
      "0   John   50000   34\n",
      "1  Sally  120000   45\n",
      "    Name  Salary  Age\n",
      "0   John   50000   34\n",
      "1  Sally  120000   45\n"
     ]
    }
   ],
   "source": [
    "# Using conditioning filtering to select certian rows and columns \n",
    "a=df[\"Age\"]>30\n",
    "print(a)\n",
    "print (df[a]) # filtering \n",
    "print (df[df[\"Age\"]>30]) # doing the filtering in one-step"
   ]
  },
  {
   "cell_type": "code",
   "execution_count": 13,
   "metadata": {},
   "outputs": [
    {
     "name": "stdout",
     "output_type": "stream",
     "text": [
      "[34 45 27]\n",
      "3\n"
     ]
    }
   ],
   "source": [
    "# grabing unique values\n",
    "a=df[\"Age\"].unique()\n",
    "# grabing the number of unique values\n",
    "b=df[\"Age\"].nunique()\n",
    "print (a)\n",
    "print (b)"
   ]
  },
  {
   "cell_type": "code",
   "execution_count": 14,
   "metadata": {},
   "outputs": [
    {
     "name": "stdout",
     "output_type": "stream",
     "text": [
      "Index(['Name', 'Salary', 'Age'], dtype='object')\n"
     ]
    }
   ],
   "source": [
    "# grabing all the column names of the data frame\n",
    "a=df.columns\n",
    "print (a)"
   ]
  },
  {
   "cell_type": "code",
   "execution_count": 15,
   "metadata": {},
   "outputs": [
    {
     "name": "stdout",
     "output_type": "stream",
     "text": [
      "<class 'pandas.core.frame.DataFrame'>\n",
      "RangeIndex: 3 entries, 0 to 2\n",
      "Data columns (total 3 columns):\n",
      "Name      3 non-null object\n",
      "Salary    3 non-null int64\n",
      "Age       3 non-null int64\n",
      "dtypes: int64(2), object(1)\n",
      "memory usage: 152.0+ bytes\n"
     ]
    }
   ],
   "source": [
    "# reporting back the information about the data frame\n",
    "df.info()"
   ]
  },
  {
   "cell_type": "code",
   "execution_count": 16,
   "metadata": {},
   "outputs": [
    {
     "data": {
      "text/html": [
       "<div>\n",
       "<style scoped>\n",
       "    .dataframe tbody tr th:only-of-type {\n",
       "        vertical-align: middle;\n",
       "    }\n",
       "\n",
       "    .dataframe tbody tr th {\n",
       "        vertical-align: top;\n",
       "    }\n",
       "\n",
       "    .dataframe thead th {\n",
       "        text-align: right;\n",
       "    }\n",
       "</style>\n",
       "<table border=\"1\" class=\"dataframe\">\n",
       "  <thead>\n",
       "    <tr style=\"text-align: right;\">\n",
       "      <th></th>\n",
       "      <th>Salary</th>\n",
       "      <th>Age</th>\n",
       "    </tr>\n",
       "  </thead>\n",
       "  <tbody>\n",
       "    <tr>\n",
       "      <th>count</th>\n",
       "      <td>3.000000</td>\n",
       "      <td>3.000000</td>\n",
       "    </tr>\n",
       "    <tr>\n",
       "      <th>mean</th>\n",
       "      <td>83333.333333</td>\n",
       "      <td>35.333333</td>\n",
       "    </tr>\n",
       "    <tr>\n",
       "      <th>std</th>\n",
       "      <td>35118.845843</td>\n",
       "      <td>9.073772</td>\n",
       "    </tr>\n",
       "    <tr>\n",
       "      <th>min</th>\n",
       "      <td>50000.000000</td>\n",
       "      <td>27.000000</td>\n",
       "    </tr>\n",
       "    <tr>\n",
       "      <th>25%</th>\n",
       "      <td>65000.000000</td>\n",
       "      <td>30.500000</td>\n",
       "    </tr>\n",
       "    <tr>\n",
       "      <th>50%</th>\n",
       "      <td>80000.000000</td>\n",
       "      <td>34.000000</td>\n",
       "    </tr>\n",
       "    <tr>\n",
       "      <th>75%</th>\n",
       "      <td>100000.000000</td>\n",
       "      <td>39.500000</td>\n",
       "    </tr>\n",
       "    <tr>\n",
       "      <th>max</th>\n",
       "      <td>120000.000000</td>\n",
       "      <td>45.000000</td>\n",
       "    </tr>\n",
       "  </tbody>\n",
       "</table>\n",
       "</div>"
      ],
      "text/plain": [
       "              Salary        Age\n",
       "count       3.000000   3.000000\n",
       "mean    83333.333333  35.333333\n",
       "std     35118.845843   9.073772\n",
       "min     50000.000000  27.000000\n",
       "25%     65000.000000  30.500000\n",
       "50%     80000.000000  34.000000\n",
       "75%    100000.000000  39.500000\n",
       "max    120000.000000  45.000000"
      ]
     },
     "execution_count": 16,
     "metadata": {},
     "output_type": "execute_result"
    }
   ],
   "source": [
    "# reporting the statitics in the data\n",
    "df.describe()"
   ]
  },
  {
   "cell_type": "code",
   "execution_count": 17,
   "metadata": {},
   "outputs": [
    {
     "data": {
      "text/plain": [
       "RangeIndex(start=0, stop=3, step=1)"
      ]
     },
     "execution_count": 17,
     "metadata": {},
     "output_type": "execute_result"
    }
   ],
   "source": [
    "# reporting the range of index\n",
    "df.index"
   ]
  },
  {
   "cell_type": "markdown",
   "metadata": {},
   "source": [
    "## Creating a panda data frame using some Numpy generated numbers"
   ]
  },
  {
   "cell_type": "code",
   "execution_count": 19,
   "metadata": {},
   "outputs": [],
   "source": [
    "import numpy as np"
   ]
  },
  {
   "cell_type": "code",
   "execution_count": 24,
   "metadata": {},
   "outputs": [
    {
     "name": "stdout",
     "output_type": "stream",
     "text": [
      "[[0 1]\n",
      " [2 3]\n",
      " [4 5]\n",
      " [6 7]\n",
      " [8 9]]\n",
      "   0  1\n",
      "0  0  1\n",
      "1  2  3\n",
      "2  4  5\n",
      "3  6  7\n",
      "4  8  9\n",
      "   A  B\n",
      "0  0  1\n",
      "1  2  3\n",
      "2  4  5\n",
      "3  6  7\n",
      "4  8  9\n"
     ]
    }
   ],
   "source": [
    "mat=np.arange(0,10).reshape(5,2)\n",
    "print (mat)\n",
    "\n",
    "# converting to pandas data frame\n",
    "df1=pd.DataFrame(data=mat)\n",
    "print(df1)\n",
    "# choosing column names for the data frame\n",
    "df2=pd.DataFrame(data=mat, columns=[\"A\",\"B\"])\n",
    "print(df2)"
   ]
  }
 ],
 "metadata": {
  "kernelspec": {
   "display_name": "Python 2",
   "language": "python",
   "name": "python2"
  },
  "language_info": {
   "codemirror_mode": {
    "name": "ipython",
    "version": 2
   },
   "file_extension": ".py",
   "mimetype": "text/x-python",
   "name": "python",
   "nbconvert_exporter": "python",
   "pygments_lexer": "ipython2",
   "version": "2.7.15"
  }
 },
 "nbformat": 4,
 "nbformat_minor": 2
}
